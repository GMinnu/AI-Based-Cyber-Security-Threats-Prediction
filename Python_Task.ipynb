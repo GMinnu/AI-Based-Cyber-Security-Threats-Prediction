{
  "nbformat": 4,
  "nbformat_minor": 0,
  "metadata": {
    "colab": {
      "provenance": [],
      "authorship_tag": "ABX9TyObanM3QqxkS85dLretSaXs",
      "include_colab_link": true
    },
    "kernelspec": {
      "name": "python3",
      "display_name": "Python 3"
    },
    "language_info": {
      "name": "python"
    }
  },
  "cells": [
    {
      "cell_type": "markdown",
      "metadata": {
        "id": "view-in-github",
        "colab_type": "text"
      },
      "source": [
        "<a href=\"https://colab.research.google.com/github/GMinnu/AI-Based-Cyber-Security-Threats-Prediction/blob/main/Python_Task.ipynb\" target=\"_parent\"><img src=\"https://colab.research.google.com/assets/colab-badge.svg\" alt=\"Open In Colab\"/></a>"
      ]
    },
    {
      "cell_type": "code",
      "execution_count": 1,
      "metadata": {
        "colab": {
          "base_uri": "https://localhost:8080/"
        },
        "id": "BbVrI_psWEt1",
        "outputId": "b3b3e6b2-517c-4e3d-f1ff-f23a64de6838"
      },
      "outputs": [
        {
          "output_type": "stream",
          "name": "stdout",
          "text": [
            "5\n",
            "-10.6\n",
            "Programiz\n"
          ]
        }
      ],
      "source": [
        "number = -10.6\n",
        "name = \"Programiz\"\n",
        "print(5)\n",
        "print(number)\n",
        "print(name)\n",
        "\n"
      ]
    },
    {
      "cell_type": "code",
      "source": [
        "a = 7\n",
        "b = 2\n",
        "print('Sum:', a + b)\n",
        "print('Subtraction:', a - b)\n",
        "print('Multiplication:', a * b)\n",
        "print('Division:', a / b)\n",
        "print('Floor Division:', a // b)\n",
        "print('Modulo:', a % b)\n",
        "print('Power:', a ** b)\n"
      ],
      "metadata": {
        "colab": {
          "base_uri": "https://localhost:8080/"
        },
        "id": "5HMg42HdWQ8z",
        "outputId": "611aec72-9813-4720-b938-259f3fd2fc7b"
      },
      "execution_count": 2,
      "outputs": [
        {
          "output_type": "stream",
          "name": "stdout",
          "text": [
            "Sum: 9\n",
            "Subtraction: 5\n",
            "Multiplication: 14\n",
            "Division: 3.5\n",
            "Floor Division: 3\n",
            "Modulo: 1\n",
            "Power: 49\n"
          ]
        }
      ]
    },
    {
      "cell_type": "code",
      "source": [
        "str1 = \"Hello\"\n",
        "str2 = \"World\"\n",
        "print(str1 + \" \" + str2)\n",
        "print(str1 * 3)\n"
      ],
      "metadata": {
        "colab": {
          "base_uri": "https://localhost:8080/"
        },
        "id": "B9mjlly7WUSZ",
        "outputId": "bcb58910-fe1e-4d82-a39e-d7faac4502bf"
      },
      "execution_count": 3,
      "outputs": [
        {
          "output_type": "stream",
          "name": "stdout",
          "text": [
            "Hello World\n",
            "HelloHelloHello\n"
          ]
        }
      ]
    },
    {
      "cell_type": "code",
      "source": [
        "lst = [1, 2, 3, 4, 5]\n",
        "print(lst[0])\n",
        "lst.append(6)\n",
        "print(lst)\n",
        "lst.remove(3)\n",
        "print(lst)\n"
      ],
      "metadata": {
        "colab": {
          "base_uri": "https://localhost:8080/"
        },
        "id": "Pou-uULPWW9k",
        "outputId": "2053356a-605d-4ec8-9394-cb6e4db44042"
      },
      "execution_count": 4,
      "outputs": [
        {
          "output_type": "stream",
          "name": "stdout",
          "text": [
            "1\n",
            "[1, 2, 3, 4, 5, 6]\n",
            "[1, 2, 4, 5, 6]\n"
          ]
        }
      ]
    },
    {
      "cell_type": "code",
      "source": [
        "import numpy as np\n",
        "a = np.array([[1, 2], [3, 4]])\n",
        "b = np.array([[4, 3], [2, 1]])\n",
        "print(\"Adding 1 to every element:\", a + 1)\n",
        "print(\"Subtracting 2 from each element:\", b - 2)\n",
        "print(\"Sum of all array elements:\", a.sum())\n",
        "print(\"Array sum:\\n\", a + b)\n"
      ],
      "metadata": {
        "colab": {
          "base_uri": "https://localhost:8080/"
        },
        "id": "2nhW-WqfWY8f",
        "outputId": "756da488-4d80-4b57-bb25-bc0407ea9f14"
      },
      "execution_count": 5,
      "outputs": [
        {
          "output_type": "stream",
          "name": "stdout",
          "text": [
            "Adding 1 to every element: [[2 3]\n",
            " [4 5]]\n",
            "Subtracting 2 from each element: [[ 2  1]\n",
            " [ 0 -1]]\n",
            "Sum of all array elements: 10\n",
            "Array sum:\n",
            " [[5 5]\n",
            " [5 5]]\n"
          ]
        }
      ]
    },
    {
      "cell_type": "code",
      "source": [
        "arr1 = np.arange(4, dtype = np.float64).reshape(2, 2)\n",
        "arr2 = np.array([12, 12])\n",
        "print('First array:')\n",
        "print(arr1)\n",
        "print('Second array:')\n",
        "print(arr2)\n",
        "print('Adding the two arrays:')\n",
        "print(np.add(arr1, arr2))\n",
        "print('Subtracting the two arrays:')\n",
        "print(np.subtract(arr1, arr2))\n",
        "print('Multiplying the two arrays:')\n",
        "print(np.multiply(arr1, arr2))\n",
        "print('Dividing the two arrays:')\n",
        "print(np.divide(arr1, arr2))"
      ],
      "metadata": {
        "colab": {
          "base_uri": "https://localhost:8080/"
        },
        "id": "qSJbUUdpWcbG",
        "outputId": "6103952c-a6da-4b81-ea00-6b580c786c73"
      },
      "execution_count": 7,
      "outputs": [
        {
          "output_type": "stream",
          "name": "stdout",
          "text": [
            "First array:\n",
            "[[0. 1.]\n",
            " [2. 3.]]\n",
            "Second array:\n",
            "[12 12]\n",
            "Adding the two arrays:\n",
            "[[12. 13.]\n",
            " [14. 15.]]\n",
            "Subtracting the two arrays:\n",
            "[[-12. -11.]\n",
            " [-10.  -9.]]\n",
            "Multiplying the two arrays:\n",
            "[[ 0. 12.]\n",
            " [24. 36.]]\n",
            "Dividing the two arrays:\n",
            "[[0.         0.08333333]\n",
            " [0.16666667 0.25      ]]\n"
          ]
        }
      ]
    },
    {
      "cell_type": "code",
      "source": [
        "import pandas as pd\n",
        "data = {'Name': ['John', 'Alice', 'Bob'],\n",
        "        'Age': [25, 30, 35],\n",
        "        'City': ['New York', 'London', 'Paris']}\n",
        "df = pd.DataFrame(data)\n",
        "print(df)\n"
      ],
      "metadata": {
        "colab": {
          "base_uri": "https://localhost:8080/"
        },
        "id": "4DcfLH-zWeMy",
        "outputId": "7f99a8e6-9e7a-4caf-c4ad-f917bdebb4d3"
      },
      "execution_count": 8,
      "outputs": [
        {
          "output_type": "stream",
          "name": "stdout",
          "text": [
            "    Name  Age      City\n",
            "0   John   25  New York\n",
            "1  Alice   30    London\n",
            "2    Bob   35     Paris\n"
          ]
        }
      ]
    },
    {
      "cell_type": "code",
      "source": [
        "dict = {'name':[\"aparna\", \"pankaj\", \"sudhir\", \"Geeku\"],\n",
        "        'degree': [\"MBA\", \"BCA\", \"M.Tech\", \"MBA\"],\n",
        "        'score':[90, 40, 80, 98]}\n",
        "df = pd.DataFrame(dict)\n",
        "print(df)\n",
        "columns = list(df)\n",
        "for i in columns:\n",
        "    print(df[i][2])\n"
      ],
      "metadata": {
        "colab": {
          "base_uri": "https://localhost:8080/"
        },
        "id": "rMWKrVZdWwoi",
        "outputId": "c2ad0b65-c56f-4e89-8e95-e5c801a2f903"
      },
      "execution_count": 9,
      "outputs": [
        {
          "output_type": "stream",
          "name": "stdout",
          "text": [
            "     name  degree  score\n",
            "0  aparna     MBA     90\n",
            "1  pankaj     BCA     40\n",
            "2  sudhir  M.Tech     80\n",
            "3   Geeku     MBA     98\n",
            "sudhir\n",
            "M.Tech\n",
            "80\n"
          ]
        }
      ]
    },
    {
      "cell_type": "code",
      "source": [
        "from sklearn import datasets\n",
        "iris = datasets.load_iris()\n",
        "print(iris.data.shape)\n"
      ],
      "metadata": {
        "colab": {
          "base_uri": "https://localhost:8080/"
        },
        "id": "seQF49B0Wy1g",
        "outputId": "463e3585-a531-4778-ec27-be942c8aedde"
      },
      "execution_count": 10,
      "outputs": [
        {
          "output_type": "stream",
          "name": "stdout",
          "text": [
            "(150, 4)\n"
          ]
        }
      ]
    },
    {
      "cell_type": "code",
      "source": [
        "from sklearn import neighbors, datasets\n",
        "iris = datasets.load_iris()\n",
        "knn = neighbors.KNeighborsClassifier()\n",
        "knn.fit(iris.data, iris.target)\n",
        "result = knn.predict([[0.1, 0.2, 0.3, 0.4]])\n",
        "print(result)\n"
      ],
      "metadata": {
        "colab": {
          "base_uri": "https://localhost:8080/"
        },
        "id": "fqIgFzm7W0lA",
        "outputId": "cf199254-c90d-40ad-ea3e-c0f5294cb151"
      },
      "execution_count": 11,
      "outputs": [
        {
          "output_type": "stream",
          "name": "stdout",
          "text": [
            "[0]\n"
          ]
        }
      ]
    },
    {
      "cell_type": "code",
      "source": [
        "import matplotlib.pyplot as plt\n",
        "x = [1,2,3,4]\n",
        "y = [10,20,25,30]\n",
        "plt.plot(x, y)\n",
        "plt.xlabel('x')\n",
        "plt.ylabel('y')\n",
        "plt.title('Simple Line Plot')\n",
        "plt.show()\n"
      ],
      "metadata": {
        "colab": {
          "base_uri": "https://localhost:8080/",
          "height": 472
        },
        "id": "0JscghW6W3Fm",
        "outputId": "6d01faea-0b25-4c2b-e7c2-fc17f6efd99f"
      },
      "execution_count": 12,
      "outputs": [
        {
          "output_type": "display_data",
          "data": {
            "text/plain": [
              "<Figure size 640x480 with 1 Axes>"
            ],
            "image/png": "[encoded data removed]"
          },
          "metadata": {}
        }
      ]
    },
    {
      "cell_type": "code",
      "source": [
        "import pandas as pd\n",
        "df = pd.DataFrame({'A': [1, 2, 3],\n",
        "                   'B': [4, 5, 6]})\n",
        "df.plot.bar(x='A', y='B')\n",
        "plt.title('Bar Plot Example')\n",
        "plt.show()\n"
      ],
      "metadata": {
        "colab": {
          "base_uri": "https://localhost:8080/",
          "height": 467
        },
        "id": "FiPLkmllW47Z",
        "outputId": "73e2fc53-f0db-4ff8-d2f7-720dc9b87105"
      },
      "execution_count": 13,
      "outputs": [
        {
          "output_type": "display_data",
          "data": {
            "text/plain": [
              "<Figure size 640x480 with 1 Axes>"
            ],
            "image/png": "[encoded data removed]"
          },
          "metadata": {}
        }
      ]
    },
    {
      "cell_type": "code",
      "source": [],
      "metadata": {
        "id": "C_rvmgX6W63M"
      },
      "execution_count": null,
      "outputs": []
    }
  ]
}