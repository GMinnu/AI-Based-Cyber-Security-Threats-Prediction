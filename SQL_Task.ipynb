{
  "nbformat": 4,
  "nbformat_minor": 0,
  "metadata": {
    "colab": {
      "provenance": [],
      "authorship_tag": "ABX9TyNi8+tvfdSpLeplncaSaVAR",
      "include_colab_link": true
    },
    "kernelspec": {
      "name": "python3",
      "display_name": "Python 3"
    },
    "language_info": {
      "name": "python"
    }
  },
  "cells": [
    {
      "cell_type": "markdown",
      "metadata": {
        "id": "view-in-github",
        "colab_type": "text"
      },
      "source": [
        "<a href=\"https://colab.research.google.com/github/GMinnu/AI-Based-Cyber-Security-Threats-Prediction/blob/main/SQL_Task.ipynb\" target=\"_parent\"><img src=\"https://colab.research.google.com/assets/colab-badge.svg\" alt=\"Open In Colab\"/></a>"
      ]
    },
    {
      "cell_type": "code",
      "execution_count": 6,
      "metadata": {
        "id": "_S7YcTXvYKJq"
      },
      "outputs": [],
      "source": [
        "import sqlite3\n",
        "\n",
        "# Create a new database in memory or file\n",
        "conn = sqlite3.connect(':memory:')  # Use filename e.g. 'school.db' for file-based\n",
        "\n",
        "cursor = conn.cursor()\n",
        "\n",
        "# Create tables\n",
        "cursor.execute('''\n",
        "CREATE TABLE Students (\n",
        "  student_id INTEGER PRIMARY KEY AUTOINCREMENT,\n",
        "  name TEXT NOT NULL,\n",
        "  email TEXT,\n",
        "  phone_number TEXT,\n",
        "  enrollment_date DATE DEFAULT (DATE('now'))\n",
        ");\n",
        "''')\n",
        "\n",
        "cursor.execute('''\n",
        "CREATE TABLE Courses (\n",
        "  course_id INTEGER PRIMARY KEY AUTOINCREMENT,\n",
        "  course_name TEXT NOT NULL,\n",
        "  instructor TEXT NOT NULL\n",
        ");\n",
        "''')\n",
        "\n",
        "cursor.execute('''\n",
        "CREATE TABLE Enrollment (\n",
        "  enrollment_id INTEGER PRIMARY KEY AUTOINCREMENT,\n",
        "  student_id INTEGER,\n",
        "  course_id INTEGER,\n",
        "  grade TEXT,\n",
        "  FOREIGN KEY(student_id) REFERENCES Students(student_id),\n",
        "  FOREIGN KEY(course_id) REFERENCES Courses(course_id)\n",
        ");\n",
        "''')\n",
        "\n",
        "# Insert sample data\n",
        "cursor.executemany('''\n",
        "INSERT INTO Students (name, email, phone_number) VALUES (?, ?, ?)\n",
        "''', [\n",
        "    ('Alice', 'alice@gmail.com', '1234567890'),\n",
        "    ('Bob', 'bob@gmail.com', '2345678901'),\n",
        "    ('Charlie', 'charlie@gmail.com', '3456789012')\n",
        "])\n",
        "\n",
        "cursor.executemany('''\n",
        "INSERT INTO Courses (course_name, instructor) VALUES (?, ?)\n",
        "''', [\n",
        "    ('Math', 'Prof. Euler'),\n",
        "    ('Physics', 'Prof. Newton'),\n",
        "    ('Chemistry', 'Prof. Curie')\n",
        "])\n",
        "\n",
        "cursor.executemany('''\n",
        "INSERT INTO Enrollment (student_id, course_id, grade) VALUES (?, ?, ?)\n",
        "''', [\n",
        "    (1, 1, 'A'),\n",
        "    (1, 2, 'B'),\n",
        "    (2, 1, 'C'),\n",
        "    (3, 3, 'A')\n",
        "])\n",
        "\n",
        "conn.commit()\n",
        "\n",
        "# Define a helper function to run and print query results\n",
        "def run_query(sql, params=()):\n",
        "    cursor.execute(sql, params)\n",
        "    rows = cursor.fetchall()\n",
        "    for row in rows:\n",
        "        print(row)\n",
        "    print('\\n')"
      ]
    },
    {
      "cell_type": "code",
      "source": [
        "# 1. Select all students\n",
        "print(\"All Students:\")\n",
        "run_query(\"SELECT * FROM Students;\")"
      ],
      "metadata": {
        "colab": {
          "base_uri": "https://localhost:8080/"
        },
        "id": "PvsQg6ckY5J_",
        "outputId": "e1101e8e-4831-4e89-8d36-6b94f783bb55"
      },
      "execution_count": 7,
      "outputs": [
        {
          "output_type": "stream",
          "name": "stdout",
          "text": [
            "All Students:\n",
            "(1, 'Alice', 'alice@gmail.com', '1234567890', '2025-10-28')\n",
            "(2, 'Bob', 'bob@gmail.com', '2345678901', '2025-10-28')\n",
            "(3, 'Charlie', 'charlie@gmail.com', '3456789012', '2025-10-28')\n",
            "\n",
            "\n"
          ]
        }
      ]
    },
    {
      "cell_type": "code",
      "source": [
        "# 2. Get student names and emails\n",
        "print(\"Student names and emails:\")\n",
        "run_query(\"SELECT name, email FROM Students;\")\n"
      ],
      "metadata": {
        "colab": {
          "base_uri": "https://localhost:8080/"
        },
        "id": "dmDCgkSbZDQ4",
        "outputId": "bcf9d8a8-9106-4af8-a5e7-b93f602b9f32"
      },
      "execution_count": 8,
      "outputs": [
        {
          "output_type": "stream",
          "name": "stdout",
          "text": [
            "Student names and emails:\n",
            "('Alice', 'alice@gmail.com')\n",
            "('Bob', 'bob@gmail.com')\n",
            "('Charlie', 'charlie@gmail.com')\n",
            "\n",
            "\n"
          ]
        }
      ]
    },
    {
      "cell_type": "code",
      "source": [
        "# 3. Add a new student\n",
        "print(\"Adding David:\")\n",
        "cursor.execute(\"INSERT INTO Students (name, email, phone_number) VALUES (?, ?, ?)\",\n",
        "               ('David', 'david@gmail.com', '4567890123'))\n",
        "conn.commit()\n",
        "run_query(\"SELECT * FROM Students;\")\n"
      ],
      "metadata": {
        "colab": {
          "base_uri": "https://localhost:8080/"
        },
        "id": "pyCRrfBuZFKY",
        "outputId": "fc383ba2-6c8e-4b39-f2d0-e09806256874"
      },
      "execution_count": 9,
      "outputs": [
        {
          "output_type": "stream",
          "name": "stdout",
          "text": [
            "Adding David:\n",
            "(1, 'Alice', 'alice@gmail.com', '1234567890', '2025-10-28')\n",
            "(2, 'Bob', 'bob@gmail.com', '2345678901', '2025-10-28')\n",
            "(3, 'Charlie', 'charlie@gmail.com', '3456789012', '2025-10-28')\n",
            "(4, 'David', 'david@gmail.com', '4567890123', '2025-10-28')\n",
            "\n",
            "\n"
          ]
        }
      ]
    },
    {
      "cell_type": "code",
      "source": [
        "# 4. Update a student’s phone number\n",
        "print(\"Updating Alice's phone number:\")\n",
        "cursor.execute(\"UPDATE Students SET phone_number = ? WHERE name = ?\", ('9876543210', 'Alice'))\n",
        "conn.commit()\n",
        "run_query(\"SELECT * FROM Students WHERE name = 'Alice';\")"
      ],
      "metadata": {
        "colab": {
          "base_uri": "https://localhost:8080/"
        },
        "id": "cB6CE64GZ6V_",
        "outputId": "27b8e728-ddab-4c15-eac8-bccec1005938"
      },
      "execution_count": 10,
      "outputs": [
        {
          "output_type": "stream",
          "name": "stdout",
          "text": [
            "Updating Alice's phone number:\n",
            "(1, 'Alice', 'alice@gmail.com', '9876543210', '2025-10-28')\n",
            "\n",
            "\n"
          ]
        }
      ]
    },
    {
      "cell_type": "code",
      "source": [
        "# 5. Delete a student record\n",
        "print(\"Deleting Charlie:\")\n",
        "cursor.execute(\"DELETE FROM Students WHERE name = 'Charlie'\")\n",
        "conn.commit()\n",
        "run_query(\"SELECT * FROM Students;\")"
      ],
      "metadata": {
        "colab": {
          "base_uri": "https://localhost:8080/"
        },
        "id": "ZnYMG9qYZ8ls",
        "outputId": "4bcd108d-186f-4973-8985-f5eb636a125e"
      },
      "execution_count": 11,
      "outputs": [
        {
          "output_type": "stream",
          "name": "stdout",
          "text": [
            "Deleting Charlie:\n",
            "(1, 'Alice', 'alice@gmail.com', '9876543210', '2025-10-28')\n",
            "(2, 'Bob', 'bob@gmail.com', '2345678901', '2025-10-28')\n",
            "(4, 'David', 'david@gmail.com', '4567890123', '2025-10-28')\n",
            "\n",
            "\n"
          ]
        }
      ]
    },
    {
      "cell_type": "code",
      "source": [
        "# 6. List all courses offered\n",
        "print(\"All Courses:\")\n",
        "run_query(\"SELECT * FROM Courses;\")"
      ],
      "metadata": {
        "colab": {
          "base_uri": "https://localhost:8080/"
        },
        "id": "qxEHAK50Z-70",
        "outputId": "2f59d51f-d30b-4ad1-ef93-fe7e952993e0"
      },
      "execution_count": 12,
      "outputs": [
        {
          "output_type": "stream",
          "name": "stdout",
          "text": [
            "All Courses:\n",
            "(1, 'Math', 'Prof. Euler')\n",
            "(2, 'Physics', 'Prof. Newton')\n",
            "(3, 'Chemistry', 'Prof. Curie')\n",
            "\n",
            "\n"
          ]
        }
      ]
    },
    {
      "cell_type": "code",
      "source": [
        "# 7. Find students enrolled in Math\n",
        "print(\"Students enrolled in Math:\")\n",
        "run_query('''\n",
        "SELECT Students.name\n",
        "FROM Students\n",
        "JOIN Enrollment ON Students.student_id = Enrollment.student_id\n",
        "JOIN Courses ON Courses.course_id = Enrollment.course_id\n",
        "WHERE Courses.course_name = 'Math';\n",
        "''')"
      ],
      "metadata": {
        "colab": {
          "base_uri": "https://localhost:8080/"
        },
        "id": "AWsqWLQmaA5t",
        "outputId": "be88d957-ade8-42b9-d692-752c7bd36b04"
      },
      "execution_count": 13,
      "outputs": [
        {
          "output_type": "stream",
          "name": "stdout",
          "text": [
            "Students enrolled in Math:\n",
            "('Alice',)\n",
            "('Bob',)\n",
            "\n",
            "\n"
          ]
        }
      ]
    },
    {
      "cell_type": "code",
      "source": [
        "# 8. Get the grades of all students for Physics\n",
        "print(\"Grades for Physics course:\")\n",
        "run_query('''\n",
        "SELECT Students.name, Enrollment.grade\n",
        "FROM Students\n",
        "JOIN Enrollment ON Students.student_id = Enrollment.student_id\n",
        "JOIN Courses ON Courses.course_id = Enrollment.course_id\n",
        "WHERE Courses.course_name = 'Physics';\n",
        "''')"
      ],
      "metadata": {
        "colab": {
          "base_uri": "https://localhost:8080/"
        },
        "id": "XrmogHPxaCsf",
        "outputId": "e21de2d8-42d6-47aa-deb1-3616ad9b4c3e"
      },
      "execution_count": 14,
      "outputs": [
        {
          "output_type": "stream",
          "name": "stdout",
          "text": [
            "Grades for Physics course:\n",
            "('Alice', 'B')\n",
            "\n",
            "\n"
          ]
        }
      ]
    },
    {
      "cell_type": "code",
      "source": [
        "# 9. Count of students in each course\n",
        "print(\"Student count per course:\")\n",
        "run_query('''\n",
        "SELECT Courses.course_name, COUNT(Enrollment.student_id) AS student_count\n",
        "FROM Courses\n",
        "LEFT JOIN Enrollment ON Courses.course_id = Enrollment.course_id\n",
        "GROUP BY Courses.course_name;\n",
        "''')"
      ],
      "metadata": {
        "colab": {
          "base_uri": "https://localhost:8080/"
        },
        "id": "uVZ6LQP9aEo2",
        "outputId": "22e6176c-d9db-4400-c9a0-fa6cda9e3b30"
      },
      "execution_count": 15,
      "outputs": [
        {
          "output_type": "stream",
          "name": "stdout",
          "text": [
            "Student count per course:\n",
            "('Chemistry', 1)\n",
            "('Math', 2)\n",
            "('Physics', 1)\n",
            "\n",
            "\n"
          ]
        }
      ]
    },
    {
      "cell_type": "code",
      "source": [
        "# 10. Find students with grade 'A'\n",
        "print(\"Students with grade A:\")\n",
        "run_query('''\n",
        "SELECT Students.name, Courses.course_name\n",
        "FROM Students\n",
        "JOIN Enrollment ON Students.student_id = Enrollment.student_id\n",
        "JOIN Courses ON Courses.course_id = Enrollment.course_id\n",
        "WHERE Enrollment.grade = 'A';\n",
        "''')"
      ],
      "metadata": {
        "colab": {
          "base_uri": "https://localhost:8080/"
        },
        "id": "8UIM79dBaGv8",
        "outputId": "39565c48-9a94-4b97-933d-d7535a5f5f35"
      },
      "execution_count": 16,
      "outputs": [
        {
          "output_type": "stream",
          "name": "stdout",
          "text": [
            "Students with grade A:\n",
            "('Alice', 'Math')\n",
            "\n",
            "\n"
          ]
        }
      ]
    },
    {
      "cell_type": "code",
      "source": [
        "# 11. Advanced: List students not enrolled in any course\n",
        "print(\"Students not enrolled in any course:\")\n",
        "run_query('''\n",
        "SELECT name FROM Students\n",
        "WHERE student_id NOT IN (SELECT student_id FROM Enrollment);\n",
        "''')"
      ],
      "metadata": {
        "colab": {
          "base_uri": "https://localhost:8080/"
        },
        "id": "Awp--8VkaLud",
        "outputId": "a3b9c1a6-55a1-4699-f8c6-acaae70f3d8d"
      },
      "execution_count": 17,
      "outputs": [
        {
          "output_type": "stream",
          "name": "stdout",
          "text": [
            "Students not enrolled in any course:\n",
            "('David',)\n",
            "\n",
            "\n"
          ]
        }
      ]
    },
    {
      "cell_type": "code",
      "source": [
        "# 12. Get most recent enrollment date per student\n",
        "print(\"Most recent enrollment date per student:\")\n",
        "run_query('''\n",
        "SELECT name, MAX(enrollment_date) AS latest_enrollment\n",
        "FROM Students\n",
        "GROUP BY name;\n",
        "''')"
      ],
      "metadata": {
        "colab": {
          "base_uri": "https://localhost:8080/"
        },
        "id": "g5fZo76UaQu-",
        "outputId": "11619753-0c25-4306-d63f-b62733b9ad29"
      },
      "execution_count": 18,
      "outputs": [
        {
          "output_type": "stream",
          "name": "stdout",
          "text": [
            "Most recent enrollment date per student:\n",
            "('Alice', '2025-10-28')\n",
            "('Bob', '2025-10-28')\n",
            "('David', '2025-10-28')\n",
            "\n",
            "\n"
          ]
        }
      ]
    },
    {
      "cell_type": "code",
      "source": [
        "# Close connection (optional)\n",
        "conn.close()"
      ],
      "metadata": {
        "id": "zY2XSe8qaT_h"
      },
      "execution_count": 19,
      "outputs": []
    },
    {
      "cell_type": "code",
      "source": [],
      "metadata": {
        "id": "sLdzm-siaVt_"
      },
      "execution_count": null,
      "outputs": []
    }
  ]
}